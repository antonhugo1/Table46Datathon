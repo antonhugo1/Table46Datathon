{
  "nbformat": 4,
  "nbformat_minor": 0,
  "metadata": {
    "colab": {
      "provenance": [],
      "collapsed_sections": [
        "iOjeQaE0Pk37",
        "aXbpj3Dw2dJ8",
        "7wdpXMI3OicP",
        "MVV3FCaS29jh",
        "7xcyAbCSTYgh",
        "NSYoyLgssDuH"
      ]
    },
    "kernelspec": {
      "name": "python3",
      "display_name": "Python 3"
    },
    "language_info": {
      "name": "python"
    }
  },
  "cells": [
    {
      "cell_type": "markdown",
      "source": [
        "## Imports"
      ],
      "metadata": {
        "id": "U3OfQyPIG9hZ"
      }
    },
    {
      "cell_type": "code",
      "source": [
        "!pip3 install emoji"
      ],
      "metadata": {
        "colab": {
          "base_uri": "https://localhost:8080/"
        },
        "id": "DXcD0dOv1t7c",
        "outputId": "62d1b8d1-5ee3-4088-e519-ce291bbcf4fe"
      },
      "execution_count": 3,
      "outputs": [
        {
          "output_type": "stream",
          "name": "stdout",
          "text": [
            "Collecting emoji\n",
            "  Using cached emoji-2.8.0-py2.py3-none-any.whl (358 kB)\n",
            "Installing collected packages: emoji\n",
            "Successfully installed emoji-2.8.0\n"
          ]
        }
      ]
    },
    {
      "cell_type": "code",
      "source": [
        "import pandas as pd\n",
        "import matplotlib.pyplot as plt\n",
        "from sklearn.preprocessing import LabelEncoder\n",
        "import time\n",
        "import datetime\n",
        "import numpy as np\n",
        "import csv\n",
        "from sklearn.neighbors import KNeighborsClassifier\n",
        "from sklearn.ensemble import RandomForestClassifier\n",
        "from sklearn.preprocessing import StandardScaler\n",
        "from sklearn.svm import SVC\n",
        "from sklearn.pipeline import make_pipeline\n",
        "from sklearn.model_selection import train_test_split, StratifiedKFold\n",
        "from sklearn.metrics import log_loss\n",
        "from sklearn.ensemble import GradientBoostingClassifier\n",
        "import emoji\n",
        "from sklearn.model_selection import GridSearchCV"
      ],
      "metadata": {
        "id": "7NCNqS1yH248"
      },
      "execution_count": 4,
      "outputs": []
    },
    {
      "cell_type": "markdown",
      "source": [
        "## Reading in Data"
      ],
      "metadata": {
        "id": "i4H_pwXUGylu"
      }
    },
    {
      "cell_type": "code",
      "source": [
        "data = pd.read_csv('train.csv', error_bad_lines = False)\n",
        "data_test = pd.read_csv('test.csv')"
      ],
      "metadata": {
        "id": "8FO1ZNCoG1aM",
        "outputId": "6199e325-a787-408a-8cdc-60901117a9c3",
        "colab": {
          "base_uri": "https://localhost:8080/"
        }
      },
      "execution_count": 5,
      "outputs": [
        {
          "output_type": "stream",
          "name": "stderr",
          "text": [
            "<ipython-input-5-75f625eff17a>:1: FutureWarning: The error_bad_lines argument has been deprecated and will be removed in a future version. Use on_bad_lines in the future.\n",
            "\n",
            "\n",
            "  data = pd.read_csv('train.csv', error_bad_lines = False)\n"
          ]
        }
      ]
    },
    {
      "cell_type": "code",
      "source": [
        "data2 = data[['id']]\n",
        "data_test2 = data_test[['id']]"
      ],
      "metadata": {
        "id": "WtqaeyFG2IAG"
      },
      "execution_count": 6,
      "outputs": []
    },
    {
      "cell_type": "markdown",
      "source": [
        "## Encoding Categorial Variables"
      ],
      "metadata": {
        "id": "iOjeQaE0Pk37"
      }
    },
    {
      "cell_type": "markdown",
      "source": [
        "### Summary: We decided to encode 7 of the categorical variables."
      ],
      "metadata": {
        "id": "46ps0A1_1KUV"
      }
    },
    {
      "cell_type": "code",
      "source": [
        "# Encoding Font\n",
        "\n",
        "font_encoding = LabelEncoder()\n",
        "font_encoding.fit(data['font'])\n",
        "data2.insert(1, \"Font Encoded\", font_encoding.transform(data['font']), True)\n",
        "\n",
        "# Theme Encoding\n",
        "\n",
        "theme_encoding = LabelEncoder()\n",
        "theme_encoding.fit(data['parameters_theme'])\n",
        "data2.insert(1, 'Theme Encoded', theme_encoding.transform(data['parameters_theme']), True)\n",
        "\n",
        "\n",
        "# Tone Encoding\n",
        "\n",
        "tone_encoding = LabelEncoder()\n",
        "tone_encoding.fit(data['parameters_tone'])\n",
        "data2.insert(1, 'Tone Encoded', tone_encoding.transform(data['parameters_tone']), True)\n",
        "\n",
        "# User Edited Encoding\n",
        "\n",
        "edit_encoding = LabelEncoder()\n",
        "edit_encoding.fit(data['user_edited'])\n",
        "data2.insert(1, 'User Edited Encoded', edit_encoding.transform(data['user_edited']), True)\n",
        "\n",
        "# Has Logo Encoding\n",
        "\n",
        "logo_encoding = LabelEncoder()\n",
        "logo_encoding.fit(data['has_logo'])\n",
        "data2.insert(1, 'Has Logo Encoded', logo_encoding.transform(data['has_logo']), True)\n",
        "\n",
        "# Approved Encoding\n",
        "\n",
        "approved_encoding = LabelEncoder()\n",
        "approved_encoding.fit(data['approved'])\n",
        "data2.insert(0, 'Approved Encoded', approved_encoding.transform(data['approved']), True)\n",
        "\n",
        "#Prompt Template\n",
        "prompt_encoding = LabelEncoder()\n",
        "prompt_encoding.fit(data['parameters_prompt_template_name'])\n",
        "data2.insert(0, 'Prompt Template Encoded', approved_encoding.transform(data['parameters_prompt_template_name']), True)\n",
        "\n",
        "#Switchboard Template\n",
        "switchboard_encoding = LabelEncoder()\n",
        "switchboard_encoding.fit(data['parameters_switchboard_template_name'])\n",
        "data2.insert(0, 'Switchboard Template Encoded', approved_encoding.transform(data['parameters_switchboard_template_name']), True)"
      ],
      "metadata": {
        "id": "EAkwluZuS6Hr"
      },
      "execution_count": 7,
      "outputs": []
    },
    {
      "cell_type": "code",
      "source": [
        "xtrain = data2"
      ],
      "metadata": {
        "id": "5oEVCs6K2a2i"
      },
      "execution_count": 8,
      "outputs": []
    },
    {
      "cell_type": "markdown",
      "source": [
        "## Adding Training Columns"
      ],
      "metadata": {
        "id": "aXbpj3Dw2dJ8"
      }
    },
    {
      "cell_type": "code",
      "source": [
        "# Post Days Old\n",
        "current = datetime.datetime.now()\n",
        "\n",
        "train_days_old = []\n",
        "\n",
        "print(current)\n",
        "for i in data['created_at']:\n",
        "\n",
        "  t_location = i.index('T')\n",
        "  date_str = i[:10] + ' ' + i[11:]\n",
        "  datetime_object = datetime.datetime.strptime(date_str, '%Y-%m-%d %H:%M:%S.%f')\n",
        "  days = (current - datetime_object).days\n",
        "  train_days_old.append(days)\n",
        "\n",
        "# User Days Old\n",
        "current = datetime.datetime.now()\n",
        "\n",
        "train_user_days_old = []\n",
        "\n",
        "for i in data['user_created_at']:\n",
        "\n",
        "  date_str = i[:10] + ' ' + i[11:]\n",
        "  datetime_object = datetime.datetime.strptime(date_str, '%Y-%m-%d %H:%M:%S.%f')\n",
        "  days = (current - datetime_object).days\n",
        "  train_user_days_old.append(days)\n",
        "\n",
        "# Length of Caption\n",
        "caption_len = []\n",
        "\n",
        "for i in data['caption']:\n",
        "\n",
        "  words = len(i.split())\n",
        "  caption_len.append(words)"
      ],
      "metadata": {
        "colab": {
          "base_uri": "https://localhost:8080/"
        },
        "id": "hI-yHKqK0dnn",
        "outputId": "abcf2a72-6189-468e-858a-852f65b3f14f"
      },
      "execution_count": 9,
      "outputs": [
        {
          "output_type": "stream",
          "name": "stdout",
          "text": [
            "2023-10-29 14:55:44.297882\n"
          ]
        }
      ]
    },
    {
      "cell_type": "code",
      "source": [
        "xtrain = data2[['Has Logo Encoded', 'User Edited Encoded', 'Tone Encoded', 'Theme Encoded', 'Font Encoded', 'Prompt Template Encoded', 'Switchboard Template Encoded']]\n",
        "\n",
        "ytrain = data2['Approved Encoded']"
      ],
      "metadata": {
        "id": "pyLFOa4bEues"
      },
      "execution_count": 10,
      "outputs": []
    },
    {
      "cell_type": "code",
      "source": [
        "# Hashtag Included\n",
        "yes_no = list()\n",
        "for caption in data['caption']:\n",
        "  if('#' in caption):\n",
        "      yes_no.append(1)\n",
        "  else:\n",
        "      yes_no.append(0)"
      ],
      "metadata": {
        "id": "0YbFX_Dq2m1B"
      },
      "execution_count": 11,
      "outputs": []
    },
    {
      "cell_type": "code",
      "source": [
        "train_has_emoji = []\n",
        "for cap in data['caption']:\n",
        "  emo = False\n",
        "  for character in cap:\n",
        "        if character in emoji.EMOJI_DATA:\n",
        "            emo = True\n",
        "  if (emo):\n",
        "    train_has_emoji.append(1)\n",
        "  else:\n",
        "    train_has_emoji.append(0)"
      ],
      "metadata": {
        "id": "l_jrsL_z2o2r"
      },
      "execution_count": 12,
      "outputs": []
    },
    {
      "cell_type": "code",
      "source": [
        "# Length of Title\n",
        "\n",
        "title_len = []\n",
        "\n",
        "for i in data['parameters_chapter_title']:\n",
        "\n",
        "  if (type(i) == str):\n",
        "    title_len.append(len(i.split()))\n",
        "  else:\n",
        "    title_len.append(0)\n",
        "\n",
        "# Length of Summary\n",
        "\n",
        "summary_len = []\n",
        "\n",
        "\n",
        "for i in data['parameters_chapter_summary']:\n",
        "\n",
        "  if (type(i) == str):\n",
        "    summary_len.append(len(i.split()))\n",
        "  else:\n",
        "    summary_len.append(0)\n",
        "# Length of Photo Search\n",
        "\n",
        "photo_search_len = []\n",
        "\n",
        "\n",
        "for i in data['parameters_photo_search_term']:\n",
        "\n",
        "  if (type(i) == str):\n",
        "    photo_search_len.append(len(i.split()))\n",
        "  else:\n",
        "    photo_search_len.append(0)"
      ],
      "metadata": {
        "id": "CXWzDwgjpga_"
      },
      "execution_count": 13,
      "outputs": []
    },
    {
      "cell_type": "code",
      "source": [
        "xtrain.insert(1, 'Post Days', train_days_old, True)\n",
        "xtrain.insert(1, 'User Days', train_user_days_old, True)\n",
        "xtrain.insert(1, 'Caption Length', caption_len, True)\n",
        "xtrain.insert(1, 'Hashtag(Y/N)', yes_no, True)\n",
        "xtrain.insert(1, 'Has Emoji', train_has_emoji, True)\n",
        "xtrain.insert(1, 'Title Length', title_len, True)\n",
        "xtrain.insert(1, 'Summary Length', summary_len, True)\n",
        "xtrain.insert(1, 'Photo Search Length', photo_search_len, True)"
      ],
      "metadata": {
        "id": "-skSHvA62qs5"
      },
      "execution_count": 14,
      "outputs": []
    },
    {
      "cell_type": "markdown",
      "source": [
        "## Processing Test Data"
      ],
      "metadata": {
        "id": "7wdpXMI3OicP"
      }
    },
    {
      "cell_type": "code",
      "source": [
        "data_test2 = data_test[['id']]\n",
        "# Encoding Font\n",
        "font_encoding = LabelEncoder()\n",
        "font_encoding.fit(data_test['font'])\n",
        "data_test2.insert(1, \"Font Encoded\", font_encoding.transform(data_test['font']), True)\n",
        "\n",
        "# Theme Encoding\n",
        "theme_encoding = LabelEncoder()\n",
        "theme_encoding.fit(data_test['parameters_theme'])\n",
        "data_test2.insert(1, 'Theme Encoded', theme_encoding.transform(data_test['parameters_theme']), True)\n",
        "\n",
        "# Tone Encoding\n",
        "tone_encoding = LabelEncoder()\n",
        "tone_encoding.fit(data_test['parameters_tone'])\n",
        "data_test2.insert(1, 'Tone Encoded', tone_encoding.transform(data_test['parameters_tone']), True)\n",
        "\n",
        "\n",
        "# User Edited Encoding\n",
        "edit_encoding = LabelEncoder()\n",
        "edit_encoding.fit(data_test['user_edited'])\n",
        "data_test2.insert(1, 'User Edited Encoded', edit_encoding.transform(data_test['user_edited']), True)\n",
        "\n",
        "# Has Logo Encoding\n",
        "logo_encoding = LabelEncoder()\n",
        "logo_encoding.fit(data_test['has_logo'])\n",
        "data_test2.insert(1, 'Has Logo Encoded', logo_encoding.transform(data_test['has_logo']), True)\n",
        "\n",
        "#Prompt Template\n",
        "prompt_encoding = LabelEncoder()\n",
        "prompt_encoding.fit(data_test['parameters_prompt_template_name'])\n",
        "data_test2.insert(0, 'Prompt Template Encoded', approved_encoding.transform(data_test['parameters_prompt_template_name']), True)\n",
        "\n",
        "#Switchboard Template\n",
        "switchboard_encoding = LabelEncoder()\n",
        "switchboard_encoding.fit(data_test['parameters_switchboard_template_name'])\n",
        "data_test2.insert(0, 'Switchboard Template Encoded', approved_encoding.transform(data_test['parameters_switchboard_template_name']), True)\n"
      ],
      "metadata": {
        "id": "oiZz3_uIc2yO"
      },
      "execution_count": 15,
      "outputs": []
    },
    {
      "cell_type": "markdown",
      "source": [
        "## Adding Test Columns"
      ],
      "metadata": {
        "id": "MVV3FCaS29jh"
      }
    },
    {
      "cell_type": "code",
      "source": [
        "# Post Days Old\n",
        "current = datetime.datetime.now()\n",
        "\n",
        "test_days_old = []\n",
        "\n",
        "print(current)\n",
        "for i in data_test['created_at']:\n",
        "\n",
        "  date_str = i[:10] + ' ' + i[11:]\n",
        "  datetime_object = datetime.datetime.strptime(date_str, '%Y-%m-%d %H:%M:%S.%f')\n",
        "  days = (current - datetime_object).days\n",
        "  test_days_old.append(days)\n",
        "\n",
        "# User Days Old\n",
        "\n",
        "current = datetime.datetime.now()\n",
        "\n",
        "test_user_days = []\n",
        "\n",
        "for i in data_test['user_created_at']:\n",
        "\n",
        "  date_str = i[:10] + ' ' + i[11:]\n",
        "  datetime_object = datetime.datetime.strptime(date_str, '%Y-%m-%d %H:%M:%S.%f')\n",
        "  days = (current - datetime_object).days\n",
        "  test_user_days.append(days)\n",
        "\n",
        "# Getting Length of a Caption\n",
        "test_caption_length = []\n",
        "\n",
        "for i in data_test['caption']:\n",
        "\n",
        "  words = len(i.split())\n",
        "  test_caption_length.append(words)"
      ],
      "metadata": {
        "id": "054XoWn9zvcH",
        "colab": {
          "base_uri": "https://localhost:8080/"
        },
        "outputId": "88f23164-3148-4af6-f368-7ff1293194e3"
      },
      "execution_count": 16,
      "outputs": [
        {
          "output_type": "stream",
          "name": "stdout",
          "text": [
            "2023-10-29 14:55:45.274502\n"
          ]
        }
      ]
    },
    {
      "cell_type": "code",
      "source": [
        "# Hashtag Included\n",
        "yes_no = list()\n",
        "for caption in data_test['caption']:\n",
        "  if('#' in caption):\n",
        "      yes_no.append(1)\n",
        "  else:\n",
        "      yes_no.append(0)\n",
        "\n",
        "# Has Emoji\n",
        "test_has_emoji = []\n",
        "for cap in data_test['caption']:\n",
        "  emo = False\n",
        "  for character in cap:\n",
        "        if character in emoji.EMOJI_DATA:\n",
        "            emo = True\n",
        "  if (emo):\n",
        "    test_has_emoji.append(1)\n",
        "  else:\n",
        "    test_has_emoji.append(0)"
      ],
      "metadata": {
        "id": "wi5wRgEp3IB_"
      },
      "execution_count": 17,
      "outputs": []
    },
    {
      "cell_type": "code",
      "source": [
        "# Length of Title\n",
        "\n",
        "title_len = []\n",
        "\n",
        "for i in data_test['parameters_chapter_title']:\n",
        "\n",
        "  if (type(i) == str):\n",
        "    title_len.append(len(i.split()))\n",
        "  else:\n",
        "    title_len.append(0)\n",
        "\n",
        "# Length of Summary\n",
        "\n",
        "summary_len = []\n",
        "\n",
        "\n",
        "for i in data_test['parameters_chapter_summary']:\n",
        "\n",
        "  if (type(i) == str):\n",
        "    summary_len.append(len(i.split()))\n",
        "  else:\n",
        "    summary_len.append(0)\n",
        "\n",
        "# Length of Photo Search\n",
        "\n",
        "photo_search_len = []\n",
        "\n",
        "\n",
        "for i in data_test['parameters_photo_search_term']:\n",
        "\n",
        "  if (type(i) == str):\n",
        "    photo_search_len.append(len(i.split()))\n",
        "  else:\n",
        "    photo_search_len.append(0)"
      ],
      "metadata": {
        "id": "RV-gwq6wpt8Y"
      },
      "execution_count": 18,
      "outputs": []
    },
    {
      "cell_type": "code",
      "source": [
        "xtest = data_test2[['Has Logo Encoded', 'User Edited Encoded', 'Tone Encoded', 'Theme Encoded', 'Font Encoded', 'Prompt Template Encoded', 'Switchboard Template Encoded']]"
      ],
      "metadata": {
        "id": "UnfObjDe3QmQ"
      },
      "execution_count": 19,
      "outputs": []
    },
    {
      "cell_type": "code",
      "source": [
        "xtest.insert(1, 'Post Days', test_days_old, True)\n",
        "xtest.insert(1, 'User Days', test_user_days, True)\n",
        "xtest.insert(1, 'Caption Length', test_caption_length, True)\n",
        "xtest.insert(1, 'Hashtag(Y/N)', yes_no, True)\n",
        "xtest.insert(1, 'Has Emoji', test_has_emoji, True)\n",
        "xtest.insert(1, 'Title Length', title_len, True)\n",
        "xtest.insert(1, 'Summary Length', summary_len, True)\n",
        "xtest.insert(1, 'Photo Search Length', photo_search_len, True)"
      ],
      "metadata": {
        "id": "8FExaGia3TNg"
      },
      "execution_count": 20,
      "outputs": []
    },
    {
      "cell_type": "code",
      "source": [
        "xtrain.head()"
      ],
      "metadata": {
        "colab": {
          "base_uri": "https://localhost:8080/",
          "height": 241
        },
        "id": "W_wvdj813ZOe",
        "outputId": "ac887d92-ed20-497b-deef-d0443b70f368"
      },
      "execution_count": 21,
      "outputs": [
        {
          "output_type": "execute_result",
          "data": {
            "text/plain": [
              "   Has Logo Encoded  Photo Search Length  Summary Length  Title Length  \\\n",
              "0                 1                    2              31             5   \n",
              "1                 1                    3              29             6   \n",
              "2                 1                    5              27             3   \n",
              "3                 0                    2              20             3   \n",
              "4                 0                    5              25             5   \n",
              "\n",
              "   Has Emoji  Hashtag(Y/N)  Caption Length  User Days  Post Days  \\\n",
              "0          1             1              33         11         11   \n",
              "1          0             1              37         24         24   \n",
              "2          0             0              47         77         44   \n",
              "3          1             1              38         44         38   \n",
              "4          1             1              33         13         13   \n",
              "\n",
              "   User Edited Encoded  Tone Encoded  Theme Encoded  Font Encoded  \\\n",
              "0                    0             2             15             1   \n",
              "1                    0             2              7            18   \n",
              "2                    0             0             11            18   \n",
              "3                    0             1              6            18   \n",
              "4                    0             0              9            18   \n",
              "\n",
              "   Prompt Template Encoded  Switchboard Template Encoded  \n",
              "0                        1                             1  \n",
              "1                        1                             1  \n",
              "2                        1                             1  \n",
              "3                        1                             1  \n",
              "4                        1                             1  "
            ],
            "text/html": [
              "\n",
              "  <div id=\"df-79e080f9-290e-4716-b70d-9440b5fb2cb0\" class=\"colab-df-container\">\n",
              "    <div>\n",
              "<style scoped>\n",
              "    .dataframe tbody tr th:only-of-type {\n",
              "        vertical-align: middle;\n",
              "    }\n",
              "\n",
              "    .dataframe tbody tr th {\n",
              "        vertical-align: top;\n",
              "    }\n",
              "\n",
              "    .dataframe thead th {\n",
              "        text-align: right;\n",
              "    }\n",
              "</style>\n",
              "<table border=\"1\" class=\"dataframe\">\n",
              "  <thead>\n",
              "    <tr style=\"text-align: right;\">\n",
              "      <th></th>\n",
              "      <th>Has Logo Encoded</th>\n",
              "      <th>Photo Search Length</th>\n",
              "      <th>Summary Length</th>\n",
              "      <th>Title Length</th>\n",
              "      <th>Has Emoji</th>\n",
              "      <th>Hashtag(Y/N)</th>\n",
              "      <th>Caption Length</th>\n",
              "      <th>User Days</th>\n",
              "      <th>Post Days</th>\n",
              "      <th>User Edited Encoded</th>\n",
              "      <th>Tone Encoded</th>\n",
              "      <th>Theme Encoded</th>\n",
              "      <th>Font Encoded</th>\n",
              "      <th>Prompt Template Encoded</th>\n",
              "      <th>Switchboard Template Encoded</th>\n",
              "    </tr>\n",
              "  </thead>\n",
              "  <tbody>\n",
              "    <tr>\n",
              "      <th>0</th>\n",
              "      <td>1</td>\n",
              "      <td>2</td>\n",
              "      <td>31</td>\n",
              "      <td>5</td>\n",
              "      <td>1</td>\n",
              "      <td>1</td>\n",
              "      <td>33</td>\n",
              "      <td>11</td>\n",
              "      <td>11</td>\n",
              "      <td>0</td>\n",
              "      <td>2</td>\n",
              "      <td>15</td>\n",
              "      <td>1</td>\n",
              "      <td>1</td>\n",
              "      <td>1</td>\n",
              "    </tr>\n",
              "    <tr>\n",
              "      <th>1</th>\n",
              "      <td>1</td>\n",
              "      <td>3</td>\n",
              "      <td>29</td>\n",
              "      <td>6</td>\n",
              "      <td>0</td>\n",
              "      <td>1</td>\n",
              "      <td>37</td>\n",
              "      <td>24</td>\n",
              "      <td>24</td>\n",
              "      <td>0</td>\n",
              "      <td>2</td>\n",
              "      <td>7</td>\n",
              "      <td>18</td>\n",
              "      <td>1</td>\n",
              "      <td>1</td>\n",
              "    </tr>\n",
              "    <tr>\n",
              "      <th>2</th>\n",
              "      <td>1</td>\n",
              "      <td>5</td>\n",
              "      <td>27</td>\n",
              "      <td>3</td>\n",
              "      <td>0</td>\n",
              "      <td>0</td>\n",
              "      <td>47</td>\n",
              "      <td>77</td>\n",
              "      <td>44</td>\n",
              "      <td>0</td>\n",
              "      <td>0</td>\n",
              "      <td>11</td>\n",
              "      <td>18</td>\n",
              "      <td>1</td>\n",
              "      <td>1</td>\n",
              "    </tr>\n",
              "    <tr>\n",
              "      <th>3</th>\n",
              "      <td>0</td>\n",
              "      <td>2</td>\n",
              "      <td>20</td>\n",
              "      <td>3</td>\n",
              "      <td>1</td>\n",
              "      <td>1</td>\n",
              "      <td>38</td>\n",
              "      <td>44</td>\n",
              "      <td>38</td>\n",
              "      <td>0</td>\n",
              "      <td>1</td>\n",
              "      <td>6</td>\n",
              "      <td>18</td>\n",
              "      <td>1</td>\n",
              "      <td>1</td>\n",
              "    </tr>\n",
              "    <tr>\n",
              "      <th>4</th>\n",
              "      <td>0</td>\n",
              "      <td>5</td>\n",
              "      <td>25</td>\n",
              "      <td>5</td>\n",
              "      <td>1</td>\n",
              "      <td>1</td>\n",
              "      <td>33</td>\n",
              "      <td>13</td>\n",
              "      <td>13</td>\n",
              "      <td>0</td>\n",
              "      <td>0</td>\n",
              "      <td>9</td>\n",
              "      <td>18</td>\n",
              "      <td>1</td>\n",
              "      <td>1</td>\n",
              "    </tr>\n",
              "  </tbody>\n",
              "</table>\n",
              "</div>\n",
              "    <div class=\"colab-df-buttons\">\n",
              "\n",
              "  <div class=\"colab-df-container\">\n",
              "    <button class=\"colab-df-convert\" onclick=\"convertToInteractive('df-79e080f9-290e-4716-b70d-9440b5fb2cb0')\"\n",
              "            title=\"Convert this dataframe to an interactive table.\"\n",
              "            style=\"display:none;\">\n",
              "\n",
              "  <svg xmlns=\"http://www.w3.org/2000/svg\" height=\"24px\" viewBox=\"0 -960 960 960\">\n",
              "    <path d=\"M120-120v-720h720v720H120Zm60-500h600v-160H180v160Zm220 220h160v-160H400v160Zm0 220h160v-160H400v160ZM180-400h160v-160H180v160Zm440 0h160v-160H620v160ZM180-180h160v-160H180v160Zm440 0h160v-160H620v160Z\"/>\n",
              "  </svg>\n",
              "    </button>\n",
              "\n",
              "  <style>\n",
              "    .colab-df-container {\n",
              "      display:flex;\n",
              "      gap: 12px;\n",
              "    }\n",
              "\n",
              "    .colab-df-convert {\n",
              "      background-color: #E8F0FE;\n",
              "      border: none;\n",
              "      border-radius: 50%;\n",
              "      cursor: pointer;\n",
              "      display: none;\n",
              "      fill: #1967D2;\n",
              "      height: 32px;\n",
              "      padding: 0 0 0 0;\n",
              "      width: 32px;\n",
              "    }\n",
              "\n",
              "    .colab-df-convert:hover {\n",
              "      background-color: #E2EBFA;\n",
              "      box-shadow: 0px 1px 2px rgba(60, 64, 67, 0.3), 0px 1px 3px 1px rgba(60, 64, 67, 0.15);\n",
              "      fill: #174EA6;\n",
              "    }\n",
              "\n",
              "    .colab-df-buttons div {\n",
              "      margin-bottom: 4px;\n",
              "    }\n",
              "\n",
              "    [theme=dark] .colab-df-convert {\n",
              "      background-color: #3B4455;\n",
              "      fill: #D2E3FC;\n",
              "    }\n",
              "\n",
              "    [theme=dark] .colab-df-convert:hover {\n",
              "      background-color: #434B5C;\n",
              "      box-shadow: 0px 1px 3px 1px rgba(0, 0, 0, 0.15);\n",
              "      filter: drop-shadow(0px 1px 2px rgba(0, 0, 0, 0.3));\n",
              "      fill: #FFFFFF;\n",
              "    }\n",
              "  </style>\n",
              "\n",
              "    <script>\n",
              "      const buttonEl =\n",
              "        document.querySelector('#df-79e080f9-290e-4716-b70d-9440b5fb2cb0 button.colab-df-convert');\n",
              "      buttonEl.style.display =\n",
              "        google.colab.kernel.accessAllowed ? 'block' : 'none';\n",
              "\n",
              "      async function convertToInteractive(key) {\n",
              "        const element = document.querySelector('#df-79e080f9-290e-4716-b70d-9440b5fb2cb0');\n",
              "        const dataTable =\n",
              "          await google.colab.kernel.invokeFunction('convertToInteractive',\n",
              "                                                    [key], {});\n",
              "        if (!dataTable) return;\n",
              "\n",
              "        const docLinkHtml = 'Like what you see? Visit the ' +\n",
              "          '<a target=\"_blank\" href=https://colab.research.google.com/notebooks/data_table.ipynb>data table notebook</a>'\n",
              "          + ' to learn more about interactive tables.';\n",
              "        element.innerHTML = '';\n",
              "        dataTable['output_type'] = 'display_data';\n",
              "        await google.colab.output.renderOutput(dataTable, element);\n",
              "        const docLink = document.createElement('div');\n",
              "        docLink.innerHTML = docLinkHtml;\n",
              "        element.appendChild(docLink);\n",
              "      }\n",
              "    </script>\n",
              "  </div>\n",
              "\n",
              "\n",
              "<div id=\"df-110044f1-3ffd-4528-98be-18e6f7c57d87\">\n",
              "  <button class=\"colab-df-quickchart\" onclick=\"quickchart('df-110044f1-3ffd-4528-98be-18e6f7c57d87')\"\n",
              "            title=\"Suggest charts.\"\n",
              "            style=\"display:none;\">\n",
              "\n",
              "<svg xmlns=\"http://www.w3.org/2000/svg\" height=\"24px\"viewBox=\"0 0 24 24\"\n",
              "     width=\"24px\">\n",
              "    <g>\n",
              "        <path d=\"M19 3H5c-1.1 0-2 .9-2 2v14c0 1.1.9 2 2 2h14c1.1 0 2-.9 2-2V5c0-1.1-.9-2-2-2zM9 17H7v-7h2v7zm4 0h-2V7h2v10zm4 0h-2v-4h2v4z\"/>\n",
              "    </g>\n",
              "</svg>\n",
              "  </button>\n",
              "\n",
              "<style>\n",
              "  .colab-df-quickchart {\n",
              "      --bg-color: #E8F0FE;\n",
              "      --fill-color: #1967D2;\n",
              "      --hover-bg-color: #E2EBFA;\n",
              "      --hover-fill-color: #174EA6;\n",
              "      --disabled-fill-color: #AAA;\n",
              "      --disabled-bg-color: #DDD;\n",
              "  }\n",
              "\n",
              "  [theme=dark] .colab-df-quickchart {\n",
              "      --bg-color: #3B4455;\n",
              "      --fill-color: #D2E3FC;\n",
              "      --hover-bg-color: #434B5C;\n",
              "      --hover-fill-color: #FFFFFF;\n",
              "      --disabled-bg-color: #3B4455;\n",
              "      --disabled-fill-color: #666;\n",
              "  }\n",
              "\n",
              "  .colab-df-quickchart {\n",
              "    background-color: var(--bg-color);\n",
              "    border: none;\n",
              "    border-radius: 50%;\n",
              "    cursor: pointer;\n",
              "    display: none;\n",
              "    fill: var(--fill-color);\n",
              "    height: 32px;\n",
              "    padding: 0;\n",
              "    width: 32px;\n",
              "  }\n",
              "\n",
              "  .colab-df-quickchart:hover {\n",
              "    background-color: var(--hover-bg-color);\n",
              "    box-shadow: 0 1px 2px rgba(60, 64, 67, 0.3), 0 1px 3px 1px rgba(60, 64, 67, 0.15);\n",
              "    fill: var(--button-hover-fill-color);\n",
              "  }\n",
              "\n",
              "  .colab-df-quickchart-complete:disabled,\n",
              "  .colab-df-quickchart-complete:disabled:hover {\n",
              "    background-color: var(--disabled-bg-color);\n",
              "    fill: var(--disabled-fill-color);\n",
              "    box-shadow: none;\n",
              "  }\n",
              "\n",
              "  .colab-df-spinner {\n",
              "    border: 2px solid var(--fill-color);\n",
              "    border-color: transparent;\n",
              "    border-bottom-color: var(--fill-color);\n",
              "    animation:\n",
              "      spin 1s steps(1) infinite;\n",
              "  }\n",
              "\n",
              "  @keyframes spin {\n",
              "    0% {\n",
              "      border-color: transparent;\n",
              "      border-bottom-color: var(--fill-color);\n",
              "      border-left-color: var(--fill-color);\n",
              "    }\n",
              "    20% {\n",
              "      border-color: transparent;\n",
              "      border-left-color: var(--fill-color);\n",
              "      border-top-color: var(--fill-color);\n",
              "    }\n",
              "    30% {\n",
              "      border-color: transparent;\n",
              "      border-left-color: var(--fill-color);\n",
              "      border-top-color: var(--fill-color);\n",
              "      border-right-color: var(--fill-color);\n",
              "    }\n",
              "    40% {\n",
              "      border-color: transparent;\n",
              "      border-right-color: var(--fill-color);\n",
              "      border-top-color: var(--fill-color);\n",
              "    }\n",
              "    60% {\n",
              "      border-color: transparent;\n",
              "      border-right-color: var(--fill-color);\n",
              "    }\n",
              "    80% {\n",
              "      border-color: transparent;\n",
              "      border-right-color: var(--fill-color);\n",
              "      border-bottom-color: var(--fill-color);\n",
              "    }\n",
              "    90% {\n",
              "      border-color: transparent;\n",
              "      border-bottom-color: var(--fill-color);\n",
              "    }\n",
              "  }\n",
              "</style>\n",
              "\n",
              "  <script>\n",
              "    async function quickchart(key) {\n",
              "      const quickchartButtonEl =\n",
              "        document.querySelector('#' + key + ' button');\n",
              "      quickchartButtonEl.disabled = true;  // To prevent multiple clicks.\n",
              "      quickchartButtonEl.classList.add('colab-df-spinner');\n",
              "      try {\n",
              "        const charts = await google.colab.kernel.invokeFunction(\n",
              "            'suggestCharts', [key], {});\n",
              "      } catch (error) {\n",
              "        console.error('Error during call to suggestCharts:', error);\n",
              "      }\n",
              "      quickchartButtonEl.classList.remove('colab-df-spinner');\n",
              "      quickchartButtonEl.classList.add('colab-df-quickchart-complete');\n",
              "    }\n",
              "    (() => {\n",
              "      let quickchartButtonEl =\n",
              "        document.querySelector('#df-110044f1-3ffd-4528-98be-18e6f7c57d87 button');\n",
              "      quickchartButtonEl.style.display =\n",
              "        google.colab.kernel.accessAllowed ? 'block' : 'none';\n",
              "    })();\n",
              "  </script>\n",
              "</div>\n",
              "    </div>\n",
              "  </div>\n"
            ]
          },
          "metadata": {},
          "execution_count": 21
        }
      ]
    },
    {
      "cell_type": "code",
      "source": [
        "xtest.head()"
      ],
      "metadata": {
        "colab": {
          "base_uri": "https://localhost:8080/",
          "height": 241
        },
        "id": "-ILc7xcN3aqK",
        "outputId": "05d5bc8f-991f-44a2-8001-ca7db5891f45"
      },
      "execution_count": 22,
      "outputs": [
        {
          "output_type": "execute_result",
          "data": {
            "text/plain": [
              "   Has Logo Encoded  Photo Search Length  Summary Length  Title Length  \\\n",
              "0                 1                    0              25             3   \n",
              "1                 0                    0              25             3   \n",
              "2                 0                    2            2757             6   \n",
              "3                 0                    0              28             3   \n",
              "4                 1                    3              20             5   \n",
              "\n",
              "   Has Emoji  Hashtag(Y/N)  Caption Length  User Days  Post Days  \\\n",
              "0          0             1              28         64         64   \n",
              "1          1             1              35         49         39   \n",
              "2          1             1              30         77         57   \n",
              "3          0             1              29         49         39   \n",
              "4          0             1              40         56         43   \n",
              "\n",
              "   User Edited Encoded  Tone Encoded  Theme Encoded  Font Encoded  \\\n",
              "0                    0             0             17            16   \n",
              "1                    0             0             20            16   \n",
              "2                    0             1             11            16   \n",
              "3                    0             2             17            16   \n",
              "4                    0             0              6            16   \n",
              "\n",
              "   Prompt Template Encoded  Switchboard Template Encoded  \n",
              "0                        1                             1  \n",
              "1                        1                             1  \n",
              "2                        1                             1  \n",
              "3                        1                             1  \n",
              "4                        1                             1  "
            ],
            "text/html": [
              "\n",
              "  <div id=\"df-fbcef473-710a-4228-a12c-9c7e62fdda38\" class=\"colab-df-container\">\n",
              "    <div>\n",
              "<style scoped>\n",
              "    .dataframe tbody tr th:only-of-type {\n",
              "        vertical-align: middle;\n",
              "    }\n",
              "\n",
              "    .dataframe tbody tr th {\n",
              "        vertical-align: top;\n",
              "    }\n",
              "\n",
              "    .dataframe thead th {\n",
              "        text-align: right;\n",
              "    }\n",
              "</style>\n",
              "<table border=\"1\" class=\"dataframe\">\n",
              "  <thead>\n",
              "    <tr style=\"text-align: right;\">\n",
              "      <th></th>\n",
              "      <th>Has Logo Encoded</th>\n",
              "      <th>Photo Search Length</th>\n",
              "      <th>Summary Length</th>\n",
              "      <th>Title Length</th>\n",
              "      <th>Has Emoji</th>\n",
              "      <th>Hashtag(Y/N)</th>\n",
              "      <th>Caption Length</th>\n",
              "      <th>User Days</th>\n",
              "      <th>Post Days</th>\n",
              "      <th>User Edited Encoded</th>\n",
              "      <th>Tone Encoded</th>\n",
              "      <th>Theme Encoded</th>\n",
              "      <th>Font Encoded</th>\n",
              "      <th>Prompt Template Encoded</th>\n",
              "      <th>Switchboard Template Encoded</th>\n",
              "    </tr>\n",
              "  </thead>\n",
              "  <tbody>\n",
              "    <tr>\n",
              "      <th>0</th>\n",
              "      <td>1</td>\n",
              "      <td>0</td>\n",
              "      <td>25</td>\n",
              "      <td>3</td>\n",
              "      <td>0</td>\n",
              "      <td>1</td>\n",
              "      <td>28</td>\n",
              "      <td>64</td>\n",
              "      <td>64</td>\n",
              "      <td>0</td>\n",
              "      <td>0</td>\n",
              "      <td>17</td>\n",
              "      <td>16</td>\n",
              "      <td>1</td>\n",
              "      <td>1</td>\n",
              "    </tr>\n",
              "    <tr>\n",
              "      <th>1</th>\n",
              "      <td>0</td>\n",
              "      <td>0</td>\n",
              "      <td>25</td>\n",
              "      <td>3</td>\n",
              "      <td>1</td>\n",
              "      <td>1</td>\n",
              "      <td>35</td>\n",
              "      <td>49</td>\n",
              "      <td>39</td>\n",
              "      <td>0</td>\n",
              "      <td>0</td>\n",
              "      <td>20</td>\n",
              "      <td>16</td>\n",
              "      <td>1</td>\n",
              "      <td>1</td>\n",
              "    </tr>\n",
              "    <tr>\n",
              "      <th>2</th>\n",
              "      <td>0</td>\n",
              "      <td>2</td>\n",
              "      <td>2757</td>\n",
              "      <td>6</td>\n",
              "      <td>1</td>\n",
              "      <td>1</td>\n",
              "      <td>30</td>\n",
              "      <td>77</td>\n",
              "      <td>57</td>\n",
              "      <td>0</td>\n",
              "      <td>1</td>\n",
              "      <td>11</td>\n",
              "      <td>16</td>\n",
              "      <td>1</td>\n",
              "      <td>1</td>\n",
              "    </tr>\n",
              "    <tr>\n",
              "      <th>3</th>\n",
              "      <td>0</td>\n",
              "      <td>0</td>\n",
              "      <td>28</td>\n",
              "      <td>3</td>\n",
              "      <td>0</td>\n",
              "      <td>1</td>\n",
              "      <td>29</td>\n",
              "      <td>49</td>\n",
              "      <td>39</td>\n",
              "      <td>0</td>\n",
              "      <td>2</td>\n",
              "      <td>17</td>\n",
              "      <td>16</td>\n",
              "      <td>1</td>\n",
              "      <td>1</td>\n",
              "    </tr>\n",
              "    <tr>\n",
              "      <th>4</th>\n",
              "      <td>1</td>\n",
              "      <td>3</td>\n",
              "      <td>20</td>\n",
              "      <td>5</td>\n",
              "      <td>0</td>\n",
              "      <td>1</td>\n",
              "      <td>40</td>\n",
              "      <td>56</td>\n",
              "      <td>43</td>\n",
              "      <td>0</td>\n",
              "      <td>0</td>\n",
              "      <td>6</td>\n",
              "      <td>16</td>\n",
              "      <td>1</td>\n",
              "      <td>1</td>\n",
              "    </tr>\n",
              "  </tbody>\n",
              "</table>\n",
              "</div>\n",
              "    <div class=\"colab-df-buttons\">\n",
              "\n",
              "  <div class=\"colab-df-container\">\n",
              "    <button class=\"colab-df-convert\" onclick=\"convertToInteractive('df-fbcef473-710a-4228-a12c-9c7e62fdda38')\"\n",
              "            title=\"Convert this dataframe to an interactive table.\"\n",
              "            style=\"display:none;\">\n",
              "\n",
              "  <svg xmlns=\"http://www.w3.org/2000/svg\" height=\"24px\" viewBox=\"0 -960 960 960\">\n",
              "    <path d=\"M120-120v-720h720v720H120Zm60-500h600v-160H180v160Zm220 220h160v-160H400v160Zm0 220h160v-160H400v160ZM180-400h160v-160H180v160Zm440 0h160v-160H620v160ZM180-180h160v-160H180v160Zm440 0h160v-160H620v160Z\"/>\n",
              "  </svg>\n",
              "    </button>\n",
              "\n",
              "  <style>\n",
              "    .colab-df-container {\n",
              "      display:flex;\n",
              "      gap: 12px;\n",
              "    }\n",
              "\n",
              "    .colab-df-convert {\n",
              "      background-color: #E8F0FE;\n",
              "      border: none;\n",
              "      border-radius: 50%;\n",
              "      cursor: pointer;\n",
              "      display: none;\n",
              "      fill: #1967D2;\n",
              "      height: 32px;\n",
              "      padding: 0 0 0 0;\n",
              "      width: 32px;\n",
              "    }\n",
              "\n",
              "    .colab-df-convert:hover {\n",
              "      background-color: #E2EBFA;\n",
              "      box-shadow: 0px 1px 2px rgba(60, 64, 67, 0.3), 0px 1px 3px 1px rgba(60, 64, 67, 0.15);\n",
              "      fill: #174EA6;\n",
              "    }\n",
              "\n",
              "    .colab-df-buttons div {\n",
              "      margin-bottom: 4px;\n",
              "    }\n",
              "\n",
              "    [theme=dark] .colab-df-convert {\n",
              "      background-color: #3B4455;\n",
              "      fill: #D2E3FC;\n",
              "    }\n",
              "\n",
              "    [theme=dark] .colab-df-convert:hover {\n",
              "      background-color: #434B5C;\n",
              "      box-shadow: 0px 1px 3px 1px rgba(0, 0, 0, 0.15);\n",
              "      filter: drop-shadow(0px 1px 2px rgba(0, 0, 0, 0.3));\n",
              "      fill: #FFFFFF;\n",
              "    }\n",
              "  </style>\n",
              "\n",
              "    <script>\n",
              "      const buttonEl =\n",
              "        document.querySelector('#df-fbcef473-710a-4228-a12c-9c7e62fdda38 button.colab-df-convert');\n",
              "      buttonEl.style.display =\n",
              "        google.colab.kernel.accessAllowed ? 'block' : 'none';\n",
              "\n",
              "      async function convertToInteractive(key) {\n",
              "        const element = document.querySelector('#df-fbcef473-710a-4228-a12c-9c7e62fdda38');\n",
              "        const dataTable =\n",
              "          await google.colab.kernel.invokeFunction('convertToInteractive',\n",
              "                                                    [key], {});\n",
              "        if (!dataTable) return;\n",
              "\n",
              "        const docLinkHtml = 'Like what you see? Visit the ' +\n",
              "          '<a target=\"_blank\" href=https://colab.research.google.com/notebooks/data_table.ipynb>data table notebook</a>'\n",
              "          + ' to learn more about interactive tables.';\n",
              "        element.innerHTML = '';\n",
              "        dataTable['output_type'] = 'display_data';\n",
              "        await google.colab.output.renderOutput(dataTable, element);\n",
              "        const docLink = document.createElement('div');\n",
              "        docLink.innerHTML = docLinkHtml;\n",
              "        element.appendChild(docLink);\n",
              "      }\n",
              "    </script>\n",
              "  </div>\n",
              "\n",
              "\n",
              "<div id=\"df-bb8f5dc6-00ee-487e-af95-736804350fdc\">\n",
              "  <button class=\"colab-df-quickchart\" onclick=\"quickchart('df-bb8f5dc6-00ee-487e-af95-736804350fdc')\"\n",
              "            title=\"Suggest charts.\"\n",
              "            style=\"display:none;\">\n",
              "\n",
              "<svg xmlns=\"http://www.w3.org/2000/svg\" height=\"24px\"viewBox=\"0 0 24 24\"\n",
              "     width=\"24px\">\n",
              "    <g>\n",
              "        <path d=\"M19 3H5c-1.1 0-2 .9-2 2v14c0 1.1.9 2 2 2h14c1.1 0 2-.9 2-2V5c0-1.1-.9-2-2-2zM9 17H7v-7h2v7zm4 0h-2V7h2v10zm4 0h-2v-4h2v4z\"/>\n",
              "    </g>\n",
              "</svg>\n",
              "  </button>\n",
              "\n",
              "<style>\n",
              "  .colab-df-quickchart {\n",
              "      --bg-color: #E8F0FE;\n",
              "      --fill-color: #1967D2;\n",
              "      --hover-bg-color: #E2EBFA;\n",
              "      --hover-fill-color: #174EA6;\n",
              "      --disabled-fill-color: #AAA;\n",
              "      --disabled-bg-color: #DDD;\n",
              "  }\n",
              "\n",
              "  [theme=dark] .colab-df-quickchart {\n",
              "      --bg-color: #3B4455;\n",
              "      --fill-color: #D2E3FC;\n",
              "      --hover-bg-color: #434B5C;\n",
              "      --hover-fill-color: #FFFFFF;\n",
              "      --disabled-bg-color: #3B4455;\n",
              "      --disabled-fill-color: #666;\n",
              "  }\n",
              "\n",
              "  .colab-df-quickchart {\n",
              "    background-color: var(--bg-color);\n",
              "    border: none;\n",
              "    border-radius: 50%;\n",
              "    cursor: pointer;\n",
              "    display: none;\n",
              "    fill: var(--fill-color);\n",
              "    height: 32px;\n",
              "    padding: 0;\n",
              "    width: 32px;\n",
              "  }\n",
              "\n",
              "  .colab-df-quickchart:hover {\n",
              "    background-color: var(--hover-bg-color);\n",
              "    box-shadow: 0 1px 2px rgba(60, 64, 67, 0.3), 0 1px 3px 1px rgba(60, 64, 67, 0.15);\n",
              "    fill: var(--button-hover-fill-color);\n",
              "  }\n",
              "\n",
              "  .colab-df-quickchart-complete:disabled,\n",
              "  .colab-df-quickchart-complete:disabled:hover {\n",
              "    background-color: var(--disabled-bg-color);\n",
              "    fill: var(--disabled-fill-color);\n",
              "    box-shadow: none;\n",
              "  }\n",
              "\n",
              "  .colab-df-spinner {\n",
              "    border: 2px solid var(--fill-color);\n",
              "    border-color: transparent;\n",
              "    border-bottom-color: var(--fill-color);\n",
              "    animation:\n",
              "      spin 1s steps(1) infinite;\n",
              "  }\n",
              "\n",
              "  @keyframes spin {\n",
              "    0% {\n",
              "      border-color: transparent;\n",
              "      border-bottom-color: var(--fill-color);\n",
              "      border-left-color: var(--fill-color);\n",
              "    }\n",
              "    20% {\n",
              "      border-color: transparent;\n",
              "      border-left-color: var(--fill-color);\n",
              "      border-top-color: var(--fill-color);\n",
              "    }\n",
              "    30% {\n",
              "      border-color: transparent;\n",
              "      border-left-color: var(--fill-color);\n",
              "      border-top-color: var(--fill-color);\n",
              "      border-right-color: var(--fill-color);\n",
              "    }\n",
              "    40% {\n",
              "      border-color: transparent;\n",
              "      border-right-color: var(--fill-color);\n",
              "      border-top-color: var(--fill-color);\n",
              "    }\n",
              "    60% {\n",
              "      border-color: transparent;\n",
              "      border-right-color: var(--fill-color);\n",
              "    }\n",
              "    80% {\n",
              "      border-color: transparent;\n",
              "      border-right-color: var(--fill-color);\n",
              "      border-bottom-color: var(--fill-color);\n",
              "    }\n",
              "    90% {\n",
              "      border-color: transparent;\n",
              "      border-bottom-color: var(--fill-color);\n",
              "    }\n",
              "  }\n",
              "</style>\n",
              "\n",
              "  <script>\n",
              "    async function quickchart(key) {\n",
              "      const quickchartButtonEl =\n",
              "        document.querySelector('#' + key + ' button');\n",
              "      quickchartButtonEl.disabled = true;  // To prevent multiple clicks.\n",
              "      quickchartButtonEl.classList.add('colab-df-spinner');\n",
              "      try {\n",
              "        const charts = await google.colab.kernel.invokeFunction(\n",
              "            'suggestCharts', [key], {});\n",
              "      } catch (error) {\n",
              "        console.error('Error during call to suggestCharts:', error);\n",
              "      }\n",
              "      quickchartButtonEl.classList.remove('colab-df-spinner');\n",
              "      quickchartButtonEl.classList.add('colab-df-quickchart-complete');\n",
              "    }\n",
              "    (() => {\n",
              "      let quickchartButtonEl =\n",
              "        document.querySelector('#df-bb8f5dc6-00ee-487e-af95-736804350fdc button');\n",
              "      quickchartButtonEl.style.display =\n",
              "        google.colab.kernel.accessAllowed ? 'block' : 'none';\n",
              "    })();\n",
              "  </script>\n",
              "</div>\n",
              "    </div>\n",
              "  </div>\n"
            ]
          },
          "metadata": {},
          "execution_count": 22
        }
      ]
    },
    {
      "cell_type": "markdown",
      "source": [
        "## Evaluation to CSV"
      ],
      "metadata": {
        "id": "nDzXf_W_LyVa"
      }
    },
    {
      "cell_type": "code",
      "source": [
        "def toCSV(ids, filename, ypred):\n",
        "  predictions = []\n",
        "  for pred in ypred:\n",
        "    if (pred == 0):\n",
        "      predictions.append('False')\n",
        "    else:\n",
        "      predictions.append('True')\n",
        "  fname = filename + \".csv\"\n",
        "  with open(fname, 'w', newline='') as file:\n",
        "      writer = csv.writer(file)\n",
        "      field = [\"id\", \"approved\"]\n",
        "      writer.writerow(field)\n",
        "      for i in range(len(ids)):\n",
        "        writer.writerow([ids[i], predictions[i]])"
      ],
      "metadata": {
        "id": "HFbiwgcuL0ra"
      },
      "execution_count": 23,
      "outputs": []
    },
    {
      "cell_type": "markdown",
      "source": [
        "## Kfold Cross Validation to determine what models we want to hyperparameter tune\n"
      ],
      "metadata": {
        "id": "7xcyAbCSTYgh"
      }
    },
    {
      "cell_type": "code",
      "source": [
        "skf = StratifiedKFold(n_splits=5)\n",
        "result_matrix1 = list()\n",
        "result_matrix2 = list()\n",
        "result_matrix3 = list()\n",
        "result_matrix4 = list()\n",
        "for k, (train_index, test_index) in enumerate(skf.split(xtrain,ytrain)):\n",
        "    # print(f\"Fold {k}: degree {d}, cval = {c}\")\n",
        "    # print(f\"  Train: index={train_index}\")\n",
        "    # print(f\"  Test:  index={test_index}\")\n",
        "    X_fold_train, X_fold_test = xtrain.iloc[train_index,:], xtrain.iloc[test_index,:]\n",
        "    y_fold_train, y_fold_test = ytrain.iloc[train_index].values.ravel(), ytrain.iloc[test_index]\n",
        "    # model here\n",
        "    # train, predict\n",
        "    neigh = KNeighborsClassifier(n_neighbors=7)\n",
        "    neigh.fit(X_fold_train, y_fold_train)\n",
        "    ypred = neigh.predict(X_fold_test)\n",
        "    result_matrix1.append(log_loss(y_fold_test, ypred))\n",
        "    # make y\n",
        "\n",
        "    clf = RandomForestClassifier(max_depth=12, random_state=0, n_estimators = 100)\n",
        "    clf.fit(X_fold_train, y_fold_train)\n",
        "    ypred2 = neigh.predict(X_fold_test)\n",
        "    result_matrix2.append(log_loss(y_fold_test, ypred2))\n",
        "\n",
        "    clf2 = make_pipeline(StandardScaler(), SVC(C = 100, kernel = 'rbf', gamma='auto'))\n",
        "    clf2.fit(X_fold_train, y_fold_train)\n",
        "    ypred3 = neigh.predict(X_fold_test)\n",
        "    result_matrix3.append(log_loss(y_fold_test, ypred3))\n",
        "\n",
        "    grad_boost = GradientBoostingClassifier()\n",
        "    grad_boost.fit(X_fold_train, y_fold_train)\n",
        "    ypred4 = neigh.predict(X_fold_test)\n",
        "    result_matrix4.append(log_loss(y_fold_test, ypred4))\n",
        "\n",
        "avg_knn = sum(result_matrix1)/len(result_matrix1)\n",
        "avg_rf = sum(result_matrix2)/len(result_matrix2)\n",
        "avg_ss = sum(result_matrix3)/len(result_matrix3)\n",
        "avg_grad = sum(result_matrix4)/len(result_matrix4)\n",
        "\n"
      ],
      "metadata": {
        "id": "GjxYjFRjTckN"
      },
      "execution_count": 27,
      "outputs": []
    },
    {
      "cell_type": "code",
      "source": [
        "avg_knn = sum(result_matrix1)/len(result_matrix1)\n",
        "avg_rf = sum(result_matrix2)/len(result_matrix2)\n",
        "avg_ss = sum(result_matrix3)/len(result_matrix3)\n",
        "avg_grad = sum(result_matrix4)/len(result_matrix4)"
      ],
      "metadata": {
        "id": "FdgCLpz89Ypx"
      },
      "execution_count": 34,
      "outputs": []
    },
    {
      "cell_type": "markdown",
      "source": [
        "## Random Forest"
      ],
      "metadata": {
        "id": "NSYoyLgssDuH"
      }
    },
    {
      "cell_type": "code",
      "source": [
        "from sklearn.ensemble import RandomForestClassifier"
      ],
      "metadata": {
        "id": "kRr0OO-p4P2o"
      },
      "execution_count": 28,
      "outputs": []
    },
    {
      "cell_type": "code",
      "source": [
        "clf = RandomForestClassifier(max_depth=256, random_state=0, n_estimators = 150)\n",
        "clf.fit(xtrain, ytrain)\n",
        "ypred = clf.predict(xtest)"
      ],
      "metadata": {
        "id": "rrmA5RQ4sbJB"
      },
      "execution_count": 29,
      "outputs": []
    },
    {
      "cell_type": "code",
      "source": [
        "model = RandomForestClassifier()\n",
        "parameters = {\"n_estimators\": [100, 150, 200, 256], \"max_depth\":[64,128,256, None]}\n",
        "random_forest = GridSearchCV(model, parameters)\n",
        "random_forest.fit(xtrain, ytrain)"
      ],
      "metadata": {
        "colab": {
          "base_uri": "https://localhost:8080/",
          "height": 0
        },
        "id": "RAF-dost-C0Z",
        "outputId": "d54b09a2-15e8-413f-c76b-6a9d7cef427e"
      },
      "execution_count": 30,
      "outputs": [
        {
          "output_type": "execute_result",
          "data": {
            "text/plain": [
              "GridSearchCV(estimator=RandomForestClassifier(),\n",
              "             param_grid={'max_depth': [64, 128, 256, None],\n",
              "                         'n_estimators': [100, 150, 200, 256]})"
            ],
            "text/html": [
              "<style>#sk-container-id-1 {color: black;background-color: white;}#sk-container-id-1 pre{padding: 0;}#sk-container-id-1 div.sk-toggleable {background-color: white;}#sk-container-id-1 label.sk-toggleable__label {cursor: pointer;display: block;width: 100%;margin-bottom: 0;padding: 0.3em;box-sizing: border-box;text-align: center;}#sk-container-id-1 label.sk-toggleable__label-arrow:before {content: \"▸\";float: left;margin-right: 0.25em;color: #696969;}#sk-container-id-1 label.sk-toggleable__label-arrow:hover:before {color: black;}#sk-container-id-1 div.sk-estimator:hover label.sk-toggleable__label-arrow:before {color: black;}#sk-container-id-1 div.sk-toggleable__content {max-height: 0;max-width: 0;overflow: hidden;text-align: left;background-color: #f0f8ff;}#sk-container-id-1 div.sk-toggleable__content pre {margin: 0.2em;color: black;border-radius: 0.25em;background-color: #f0f8ff;}#sk-container-id-1 input.sk-toggleable__control:checked~div.sk-toggleable__content {max-height: 200px;max-width: 100%;overflow: auto;}#sk-container-id-1 input.sk-toggleable__control:checked~label.sk-toggleable__label-arrow:before {content: \"▾\";}#sk-container-id-1 div.sk-estimator input.sk-toggleable__control:checked~label.sk-toggleable__label {background-color: #d4ebff;}#sk-container-id-1 div.sk-label input.sk-toggleable__control:checked~label.sk-toggleable__label {background-color: #d4ebff;}#sk-container-id-1 input.sk-hidden--visually {border: 0;clip: rect(1px 1px 1px 1px);clip: rect(1px, 1px, 1px, 1px);height: 1px;margin: -1px;overflow: hidden;padding: 0;position: absolute;width: 1px;}#sk-container-id-1 div.sk-estimator {font-family: monospace;background-color: #f0f8ff;border: 1px dotted black;border-radius: 0.25em;box-sizing: border-box;margin-bottom: 0.5em;}#sk-container-id-1 div.sk-estimator:hover {background-color: #d4ebff;}#sk-container-id-1 div.sk-parallel-item::after {content: \"\";width: 100%;border-bottom: 1px solid gray;flex-grow: 1;}#sk-container-id-1 div.sk-label:hover label.sk-toggleable__label {background-color: #d4ebff;}#sk-container-id-1 div.sk-serial::before {content: \"\";position: absolute;border-left: 1px solid gray;box-sizing: border-box;top: 0;bottom: 0;left: 50%;z-index: 0;}#sk-container-id-1 div.sk-serial {display: flex;flex-direction: column;align-items: center;background-color: white;padding-right: 0.2em;padding-left: 0.2em;position: relative;}#sk-container-id-1 div.sk-item {position: relative;z-index: 1;}#sk-container-id-1 div.sk-parallel {display: flex;align-items: stretch;justify-content: center;background-color: white;position: relative;}#sk-container-id-1 div.sk-item::before, #sk-container-id-1 div.sk-parallel-item::before {content: \"\";position: absolute;border-left: 1px solid gray;box-sizing: border-box;top: 0;bottom: 0;left: 50%;z-index: -1;}#sk-container-id-1 div.sk-parallel-item {display: flex;flex-direction: column;z-index: 1;position: relative;background-color: white;}#sk-container-id-1 div.sk-parallel-item:first-child::after {align-self: flex-end;width: 50%;}#sk-container-id-1 div.sk-parallel-item:last-child::after {align-self: flex-start;width: 50%;}#sk-container-id-1 div.sk-parallel-item:only-child::after {width: 0;}#sk-container-id-1 div.sk-dashed-wrapped {border: 1px dashed gray;margin: 0 0.4em 0.5em 0.4em;box-sizing: border-box;padding-bottom: 0.4em;background-color: white;}#sk-container-id-1 div.sk-label label {font-family: monospace;font-weight: bold;display: inline-block;line-height: 1.2em;}#sk-container-id-1 div.sk-label-container {text-align: center;}#sk-container-id-1 div.sk-container {/* jupyter's `normalize.less` sets `[hidden] { display: none; }` but bootstrap.min.css set `[hidden] { display: none !important; }` so we also need the `!important` here to be able to override the default hidden behavior on the sphinx rendered scikit-learn.org. See: https://github.com/scikit-learn/scikit-learn/issues/21755 */display: inline-block !important;position: relative;}#sk-container-id-1 div.sk-text-repr-fallback {display: none;}</style><div id=\"sk-container-id-1\" class=\"sk-top-container\"><div class=\"sk-text-repr-fallback\"><pre>GridSearchCV(estimator=RandomForestClassifier(),\n",
              "             param_grid={&#x27;max_depth&#x27;: [64, 128, 256, None],\n",
              "                         &#x27;n_estimators&#x27;: [100, 150, 200, 256]})</pre><b>In a Jupyter environment, please rerun this cell to show the HTML representation or trust the notebook. <br />On GitHub, the HTML representation is unable to render, please try loading this page with nbviewer.org.</b></div><div class=\"sk-container\" hidden><div class=\"sk-item sk-dashed-wrapped\"><div class=\"sk-label-container\"><div class=\"sk-label sk-toggleable\"><input class=\"sk-toggleable__control sk-hidden--visually\" id=\"sk-estimator-id-1\" type=\"checkbox\" ><label for=\"sk-estimator-id-1\" class=\"sk-toggleable__label sk-toggleable__label-arrow\">GridSearchCV</label><div class=\"sk-toggleable__content\"><pre>GridSearchCV(estimator=RandomForestClassifier(),\n",
              "             param_grid={&#x27;max_depth&#x27;: [64, 128, 256, None],\n",
              "                         &#x27;n_estimators&#x27;: [100, 150, 200, 256]})</pre></div></div></div><div class=\"sk-parallel\"><div class=\"sk-parallel-item\"><div class=\"sk-item\"><div class=\"sk-label-container\"><div class=\"sk-label sk-toggleable\"><input class=\"sk-toggleable__control sk-hidden--visually\" id=\"sk-estimator-id-2\" type=\"checkbox\" ><label for=\"sk-estimator-id-2\" class=\"sk-toggleable__label sk-toggleable__label-arrow\">estimator: RandomForestClassifier</label><div class=\"sk-toggleable__content\"><pre>RandomForestClassifier()</pre></div></div></div><div class=\"sk-serial\"><div class=\"sk-item\"><div class=\"sk-estimator sk-toggleable\"><input class=\"sk-toggleable__control sk-hidden--visually\" id=\"sk-estimator-id-3\" type=\"checkbox\" ><label for=\"sk-estimator-id-3\" class=\"sk-toggleable__label sk-toggleable__label-arrow\">RandomForestClassifier</label><div class=\"sk-toggleable__content\"><pre>RandomForestClassifier()</pre></div></div></div></div></div></div></div></div></div></div>"
            ]
          },
          "metadata": {},
          "execution_count": 30
        }
      ]
    },
    {
      "cell_type": "code",
      "source": [
        "random_forest.best_params_"
      ],
      "metadata": {
        "colab": {
          "base_uri": "https://localhost:8080/"
        },
        "id": "s0LyXHgQ_nz0",
        "outputId": "f7caad36-e5e4-4902-ab8b-aa4621d86bc2"
      },
      "execution_count": 31,
      "outputs": [
        {
          "output_type": "execute_result",
          "data": {
            "text/plain": [
              "{'max_depth': None, 'n_estimators': 150}"
            ]
          },
          "metadata": {},
          "execution_count": 31
        }
      ]
    },
    {
      "cell_type": "code",
      "source": [
        "ran_forest = RandomForestClassifier(max_depth = 64, criterion = 'entropy', n_estimators = 256, random_state = 42)\n",
        "ran_forest.fit(xtrain,ytrain)\n",
        "ypred = ran_forest.predict(xtest)"
      ],
      "metadata": {
        "id": "Fsr5mdQ_Aw_c"
      },
      "execution_count": 32,
      "outputs": []
    },
    {
      "cell_type": "markdown",
      "source": [
        "final parameters, random forest, max depth 64, criterion entropy, n estimators 256, random state 42"
      ],
      "metadata": {
        "id": "kbczR1brG7vk"
      }
    },
    {
      "cell_type": "code",
      "source": [
        "ids = data_test['id']\n",
        "ids\n",
        "predictions = []\n",
        "\n",
        "for pred in ypred:\n",
        "\n",
        "  if (pred == 0):\n",
        "\n",
        "    predictions.append('False')\n",
        "  else:\n",
        "\n",
        "    predictions.append('True')\n",
        "\n",
        "with open('ran_forest_anton.csv', 'w', newline='') as file:\n",
        "    writer = csv.writer(file)\n",
        "    field = [\"id\", \"approved\"]\n",
        "\n",
        "    writer.writerow(field)\n",
        "    for i in range(len(ids)):\n",
        "\n",
        "      writer.writerow([ids[i], predictions[i]])"
      ],
      "metadata": {
        "id": "yZtLbQLCDN0f"
      },
      "execution_count": 33,
      "outputs": []
    },
    {
      "cell_type": "markdown",
      "source": [
        "## Feature Importance"
      ],
      "metadata": {
        "id": "1SjDF60e7POn"
      }
    },
    {
      "cell_type": "code",
      "source": [
        "print(ran_forest.feature_names_in_)\n",
        "print(ran_forest.feature_importances_)"
      ],
      "metadata": {
        "colab": {
          "base_uri": "https://localhost:8080/"
        },
        "id": "G1rtfFhQ7Ek2",
        "outputId": "94e99193-1d7c-4e27-d09f-0f8bded18096"
      },
      "execution_count": 36,
      "outputs": [
        {
          "output_type": "stream",
          "name": "stdout",
          "text": [
            "['Has Logo Encoded' 'Photo Search Length' 'Summary Length' 'Title Length'\n",
            " 'Has Emoji' 'Hashtag(Y/N)' 'Caption Length' 'User Days' 'Post Days'\n",
            " 'User Edited Encoded' 'Tone Encoded' 'Theme Encoded' 'Font Encoded'\n",
            " 'Prompt Template Encoded' 'Switchboard Template Encoded']\n",
            "[0.02090097 0.0653954  0.13875407 0.0781388  0.02629127 0.02236444\n",
            " 0.1601324  0.12337231 0.14063593 0.03921096 0.05365488 0.08394514\n",
            " 0.04720344 0.         0.        ]\n"
          ]
        }
      ]
    },
    {
      "cell_type": "code",
      "source": [
        "plt.bar(ran_forest.feature_names_in_,ran_forest.feature_importances_)\n",
        "plt.xticks(rotation = 90)\n",
        "plt.ylabel(\"relative feature importance (%)\")\n",
        "plt.show()"
      ],
      "metadata": {
        "colab": {
          "base_uri": "https://localhost:8080/",
          "height": 634
        },
        "id": "Q_7axpV-9Fwl",
        "outputId": "930706d0-36b9-4778-f365-2242c6740dc4"
      },
      "execution_count": 44,
      "outputs": [
        {
          "output_type": "display_data",
          "data": {
            "text/plain": [
              "<Figure size 640x480 with 1 Axes>"
            ],
            "image/png": "[encoded data removed]"
          },
          "metadata": {}
        }
      ]
    },
    {
      "cell_type": "markdown",
      "source": [],
      "metadata": {
        "id": "oWot0K_d87UY"
      }
    }
  ]
}